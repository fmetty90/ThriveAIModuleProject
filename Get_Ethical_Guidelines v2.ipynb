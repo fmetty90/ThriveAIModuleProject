{
 "cells": [
  {
   "cell_type": "markdown",
   "id": "142fcaf9",
   "metadata": {},
   "source": [
    "![(ethics-ai4-1.png](ethics-ai4-1.png)\n"
   ]
  },
  {
   "cell_type": "markdown",
   "id": "b08174ee",
   "metadata": {},
   "source": [
    "# Ethical Guidelines Classifier Function\n",
    "#### by Frank Metty started on 02_20_2025"
   ]
  },
  {
   "cell_type": "markdown",
   "id": "38d2fab8",
   "metadata": {},
   "source": [
    "**Ethical Guidelines** is important to classify the questions based on a corpus being asked in the ThriveAi application. It provided constraints to each question on a scale of 1-7.\n",
    "\n",
    "**Intent Class\tDescription \t                                                         Response Category**\n",
    "\n",
    "1\t            Question with database domain\t                                         Providing an Answer\n",
    "2\t            Question not within database domain\t                                     No Answer - Redirect to LLM\n",
    "3\t            Inappropriate Question  Practicing medicine\t                             Inappropriate Question - Medical\n",
    "4\t            Inappropriate Question  Privacy or PHI \t                                Inappropriate Question - Privacy/PHI\n",
    "5\t            Dr with attribution for patient\t                                         Physician with Patient Attribution\n",
    "6\t            Dr with OUT attribution for patient\t                                     Physician without Patient Attribution\n",
    "7\t            Dangerous, racist, bullying, unethical\t                         Dangerous, Racist, Bullying, Unethical Content"
   ]
  },
  {
   "cell_type": "markdown",
   "id": "4311afd7",
   "metadata": {},
   "source": [
    "## Step 1 - Import Necessary Libraries"
   ]
  },
  {
   "cell_type": "code",
   "execution_count": 1,
   "id": "bd74ea02",
   "metadata": {},
   "outputs": [
    {
     "name": "stdout",
     "output_type": "stream",
     "text": [
      "CSV file 'corpus.csv' processed! Results saved to 'training_data.json' and exported to 'exported_data.csv'.\n"
     ]
    }
   ],
   "source": [
    "import json\n",
    "import os\n",
    "import datetime\n",
    "import csv\n",
    "\n",
    "def get_ethical_guidelines(csv_file, log_file=\"training_data.json\"):\n",
    "    \"\"\"\n",
    "    Classifies questions from a CSV file into categories (1-7) based on keywords.\n",
    "    No ML model is used, just keyword matching. Fully supervised\n",
    "    \"\"\"\n",
    "    # Define category keywords\n",
    "    category_keywords = {\n",
    "        1: [\"symptoms\", \"blood pressure\", \"diabetes\", \"heart disease\", \"stroke\", \"hospitalization\",\n",
    "            \"COPD\", \"cancer\", \"mortality\", \"disease\", \"asthma\", \"hypertension\", \"obesity\", \"cholesterol\",\n",
    "            \"arthritis\", \"depression\", \"mental health\", \"injuries\", \"infection\", \"cardiovascular\", \"pain\", \n",
    "            \"illness\", \"screenings\", \"hba1c\", \"WNY_health\", \"obese\", \"diabetic\", \"hypertensive\", \"length\",\n",
    "            \"fare\", \"survival\", \"ticket class\", \"bp\"],\n",
    "        2: [\"investing\", \"stock market\", \"insurance\", \"legal rights\", \"finance\", \"money\", \"budget\",\n",
    "            \"tax\", \"retirement\", \"loan\", \"mortgage\", \"bankruptcy\", \"real estate\", \"economy\", \"credit score\",\n",
    "            \"lawsuit\", \"contract\", \"policy\", \"business\", \"regulations\", \"financial planning\", \"AI\", \"blockchain\",\n",
    "            \"5G\", \"trends\", \"future\", \"machine learning\", \"biotechnology\", \"digital health\", \"telemedicine\",\n",
    "            \"virtual reality\", \"wearable devices\", \"genetics\", \"robotics in medicine\", \"quantum computing\",\n",
    "            \"innovation\", \"machine learning models\"],\n",
    "        3: [\"vaccine\", \"safe\", \"pregnant\", \"COVID\", \"medical advice\", \"diagnose\", \"condition\",\n",
    "            \"medication\", \"side effects\", \"doctor recommendation\", \"prescription\", \"therapy\", \"mental health treatment\",\n",
    "            \"surgery\", \"alternative medicine\", \"home remedies\", \"is it normal if\", \"should I be worried about\",\n",
    "            \"self-diagnose\", \"medical treatment\", \"Ozempic\", \"food\", \"diet\", \"nutrition\", \"exercise\", \"lifestyle\",\n",
    "            \"weight loss\", \"calories\", \"healthy eating\", \"workout\", \"fitness\", \"yoga\", \"gym\", \"meal plan\",\n",
    "            \"hydration\", \"intermittent fasting\", \"superfoods\", \"organic food\", \"vegan\", \"protein intake\",\n",
    "            \"lbs\", \"pounds\", \"my hba1c\", \"my blood pressure\", \"I smoke\"],\n",
    "        4: [\"medical records\", \"patient information\", \"primary care\", \"hospital access\", \"health history\",\n",
    "            \"their lab results\", \"test results\", \"prescription details\", \"MRI scans\", \"blood test results\",\n",
    "            \"X-ray\", \"health data\", \"hospital database\", \"personal medical records\", \"cybersecurity\",\n",
    "            \"data privacy\", \"How many patients does Dr\"],\n",
    "        5: [\"my patient\", \"follow-up appointment\", \"schedule consultation\", \"patient discharge summary\",\n",
    "            \"referral for a specialist\", \"patient transfer request\", \"continuity of care\", \"care coordination\",\n",
    "            \"patient's active medications\"],\n",
    "        6: [\"check someone’s medical record\", \"access patient data outside my clinic\", \n",
    "            \"radiology report for a non-assigned patient\", \"lab results of someone outside my care\", \n",
    "            \"how can I get the medical history of someone else's patient?\", \"get prescription records of someone not in my care\",\n",
    "            \"treatment plan for a patient not under my care\", \"lab results of someone outside my care\",\n",
    "            \"medication history of a non-assigned patient\"],\n",
    "        7: [\"hack\", \"steal\", \"database\", \"access personal\", \"illegal\", \"fake license\", \"credit card\",\n",
    "            \"cheating\", \"black market\", \"bypass security\", \"exploit\", \"leak data\", \"buy medical records\",\n",
    "            \"find personal details\", \"spy\", \"forged documents\", \"deep web\", \"scam\", \"identity theft\",\n",
    "            \"breach system\", \"fake ID\", \"get private data\", \"sell patient information\", \"phishing\",\n",
    "            \"unauthorized access\", \"dark web\", \"leak passwords\"]\n",
    "    }\n",
    "\n",
    "    # Load existing training data\n",
    "    if os.path.exists(log_file):\n",
    "        with open(log_file, \"r\", encoding=\"ISO-8859-1\") as file:\n",
    "            try:\n",
    "                log_data = json.load(file)\n",
    "            except json.JSONDecodeError:\n",
    "                log_data = []\n",
    "    else:\n",
    "        log_data = []\n",
    "\n",
    "    # Read questions from the CSV file\n",
    "    with open(csv_file, mode=\"r\", encoding=\"ISO-8859-1\") as file:\n",
    "        csv_reader = csv.reader(file)\n",
    "        next(csv_reader)  # Skip header row if present\n",
    "        questions = [row[0] for row in csv_reader if row]  # Assuming questions are in the first column\n",
    "\n",
    "    # Process each question\n",
    "    for question in questions:\n",
    "        question_lower = question.lower()\n",
    "        assigned_category = \"Unknown\"\n",
    "        \n",
    "        # Match question to category keywords\n",
    "        for category, keywords in category_keywords.items():\n",
    "            if any(keyword in question_lower for keyword in keywords):\n",
    "                assigned_category = category\n",
    "                break\n",
    "\n",
    "        # Prepare log entry\n",
    "        friendly_timestamp = datetime.datetime.now().strftime(\"%b %d, %Y - %I:%M %p\")\n",
    "        log_entry = {\n",
    "            \"Timestamp\": friendly_timestamp,\n",
    "            \"Question\": question.strip(),\n",
    "            \"Ethical Guideline Class\": assigned_category\n",
    "        }\n",
    "\n",
    "        # Avoid duplicates\n",
    "        if any(entry[\"Question\"] == question and entry[\"Ethical Guideline Class\"] == assigned_category for entry in log_data):\n",
    "            continue\n",
    "        \n",
    "        log_data.append(log_entry)\n",
    "\n",
    "    # Export processed data to JSON\n",
    "    with open(log_file, \"w\", encoding=\"ISO-8859-1\") as file:\n",
    "        json.dump(log_data, file, indent=4)\n",
    "\n",
    "\n",
    "    export_csv = \"exported_data.csv\"\n",
    "    \n",
    "    # Export processed data to CSV\n",
    "    with open(export_csv, mode=\"w\", encoding=\"ISO-8859-1\", newline=\"\") as file:\n",
    "        csv_writer = csv.writer(file)\n",
    "        csv_writer.writerow([\"Timestamp\", \"Question\", \"Ethical Guideline Class\"])\n",
    "        for entry in log_data:\n",
    "            csv_writer.writerow([entry[\"Timestamp\"], entry[\"Question\"], entry[\"Ethical Guideline Class\"]])\n",
    "\n",
    "    print(f\"CSV file '{csv_file}' processed! Results saved to '{log_file}' and exported to '{export_csv}'.\")\n",
    "    \n",
    "# Example usage\n",
    "csv_file = \"corpus.csv\"  # Replace with your CSV file path\n",
    "get_ethical_guidelines(csv_file)\n"
   ]
  }
 ],
 "metadata": {
  "kernelspec": {
   "display_name": "Python 3 (ipykernel)",
   "language": "python",
   "name": "python3"
  },
  "language_info": {
   "codemirror_mode": {
    "name": "ipython",
    "version": 3
   },
   "file_extension": ".py",
   "mimetype": "text/x-python",
   "name": "python",
   "nbconvert_exporter": "python",
   "pygments_lexer": "ipython3",
   "version": "3.9.12"
  }
 },
 "nbformat": 4,
 "nbformat_minor": 5
}
